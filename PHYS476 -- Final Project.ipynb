{
 "cells": [
  {
   "cell_type": "markdown",
   "metadata": {},
   "source": [
    "Brandon Wilfong\n",
    "\n",
    "PHYS476 -- Final Project\n",
    "\n",
    "For this final project, we will look at the use of neural network models to learn atomization energies for small organic molecules based calculated nuclear charge and atomic positions within the molecules. \n",
    "\n",
    "The dataset used can be obtained from: http://quantum-machine.org/datasets/\n",
    "\n",
    "L. C. Blum, J.-L. Reymond, 970 Million Druglike Small Molecules for Virtual Screening in the Chemical Universe Database GDB-13, J. Am. Chem. Soc., 131:8732, 2009.\n",
    "M. Rupp, A. Tkatchenko, K.-R. Müller, O. A. von Lilienfeld: Fast and Accurate Modeling of Molecular Atomization Energies with Machine Learning, Physical Review Letters, 108(5):058301, 2012.\n",
    "\n",
    "Thie dataset consists of a subset of the GDB-13 dataset which contains the the Coulomb matrix representation of these molecules and their atomization energies computed from DFT using the Perdew-Burke-Ernzerhof hybrid functional (PBE).\n",
    "\n"
   ]
  },
  {
   "attachments": {
    "Capture.PNG": {
     "image/png": "[encoded data removed]"
    }
   },
   "cell_type": "markdown",
   "metadata": {},
   "source": [
    "The Coulomb matrix representation of the atomic positions and nuclear charge requires the knowledge of the molecular structure of these systems. With this, the Coulombic interaction between all atoms within the molecule can be calculated and this is represented in matrix format via the formula:\n",
    "\n",
    "![Capture.PNG](attachment:Capture.PNG)\n",
    "\n",
    "Where Ri and Rj are the positions of the i-th and j-th atom in the molecule and Zi and Zj are the nuclear charge of the i-th and j-th atom. From these two points, we have information regarding the structural and elemental make-up of the molecule. \n",
    "\n",
    "The dataset used consists of 7165 molecules, with the largest molecules containing 23 atoms, so the total size of the Coulomb matrix representation considered here is (7165 x 23 x 23) with a (7165 x 1) vector corresponding to the atomization energy for each molecule. "
   ]
  },
  {
   "attachments": {
    "fig.gif": {
     "image/gif": "[encoded data removed]"
    }
   },
   "cell_type": "markdown",
   "metadata": {},
   "source": [
    "There has been some previous work on this dataset: \n",
    "\n",
    "Rupp et al. PRL, 2012 | Kernel ridge regression with Gaussian Kernel on Coulomb matrix sorted eigenspectrum | 9.9kcal/mol\n",
    "\n",
    "Montavon et al. NIPS, 2012 | Multilayer perceptron with binarized random Coulomb matrices | 3.5 kcal/mol\n",
    "    \n",
    "However, I plan to use convolutional neural networks to attempt to model this problem. This is due to the fact that the (23 x 23) Coulomb matrix is an image-like representation of the electronic energy of each molecule. For each molecule, depending on the atomic arrangement and composition, there are only a couple bonds which make up the bulk of the energetic concerns for the system. \n",
    "\n",
    "For example, in ethane, H3C-CH3, the C-C bond is about 20% weaker than the C-H bonds. \n",
    "![fig.gif](attachment:fig.gif)\n",
    "Thus, we may be able to use convolutional neural networks to optimize the Coulomb matrix representation and focus in on only the most important features of a molecule and attempt to learn the atomization energy from this electronic and structural information.\n",
    "\n",
    "    "
   ]
  },
  {
   "cell_type": "code",
   "execution_count": 1,
   "metadata": {},
   "outputs": [
    {
     "data": {
      "text/html": [
       "<div>\n",
       "<style scoped>\n",
       "    .dataframe tbody tr th:only-of-type {\n",
       "        vertical-align: middle;\n",
       "    }\n",
       "\n",
       "    .dataframe tbody tr th {\n",
       "        vertical-align: top;\n",
       "    }\n",
       "\n",
       "    .dataframe thead th {\n",
       "        text-align: right;\n",
       "    }\n",
       "</style>\n",
       "<table border=\"1\" class=\"dataframe\">\n",
       "  <thead>\n",
       "    <tr style=\"text-align: right;\">\n",
       "      <th></th>\n",
       "      <th>__globals__</th>\n",
       "      <th>X</th>\n",
       "      <th>R</th>\n",
       "      <th>T</th>\n",
       "      <th>Z</th>\n",
       "      <th>__version__</th>\n",
       "      <th>P</th>\n",
       "      <th>__header__</th>\n",
       "    </tr>\n",
       "  </thead>\n",
       "  <tbody>\n",
       "    <tr>\n",
       "      <th>0</th>\n",
       "      <td>[]</td>\n",
       "      <td>[[[36.8581, 2.90763, 2.90761, 2.90756, 2.90535...</td>\n",
       "      <td>[[[1.88644, -0.00464873, -0.00823921], [3.9499...</td>\n",
       "      <td>[[-417.96, -712.42, -564.21, -404.88, -808.87,...</td>\n",
       "      <td>[[6.0, 1.0, 1.0, 1.0, 1.0, 0.0, 0.0, 0.0, 0.0,...</td>\n",
       "      <td>1.0</td>\n",
       "      <td>[[5578, 2504, 4851, 3130, 6670, 2010, 1421, 43...</td>\n",
       "      <td>b'MATLAB 5.0 MAT-file Platform: posix, Created...</td>\n",
       "    </tr>\n",
       "  </tbody>\n",
       "</table>\n",
       "</div>"
      ],
      "text/plain": [
       "  __globals__                                                  X  \\\n",
       "0          []  [[[36.8581, 2.90763, 2.90761, 2.90756, 2.90535...   \n",
       "\n",
       "                                                   R  \\\n",
       "0  [[[1.88644, -0.00464873, -0.00823921], [3.9499...   \n",
       "\n",
       "                                                   T  \\\n",
       "0  [[-417.96, -712.42, -564.21, -404.88, -808.87,...   \n",
       "\n",
       "                                                   Z __version__  \\\n",
       "0  [[6.0, 1.0, 1.0, 1.0, 1.0, 0.0, 0.0, 0.0, 0.0,...         1.0   \n",
       "\n",
       "                                                   P  \\\n",
       "0  [[5578, 2504, 4851, 3130, 6670, 2010, 1421, 43...   \n",
       "\n",
       "                                          __header__  \n",
       "0  b'MATLAB 5.0 MAT-file Platform: posix, Created...  "
      ]
     },
     "execution_count": 1,
     "metadata": {},
     "output_type": "execute_result"
    }
   ],
   "source": [
    "import os,sys, numpy, scipy, scipy.io\n",
    "import pandas as pd\n",
    "import tensorflow as tf\n",
    "import numpy as np\n",
    "seed  = 42\n",
    "numpy.random.seed(seed)\n",
    "dataset = scipy.io.loadmat('qm7.mat')\n",
    "data = pd.DataFrame([dataset], columns = dataset.keys())\n",
    "data.head()"
   ]
  },
  {
   "cell_type": "markdown",
   "metadata": {},
   "source": [
    "Now, we can evaluate how the data is arranged. Z = (7165 x 3) array of Cartesian coordinates of each atom in molecule, R = (7165 x 1) array of atomic charge of each atom in the molecule, X = (7165 x 23 x 23) array of the Coulomb matrix representation of each molecule, T = (7165 x 1) array of atomization energy for each molecule, and P = (5 x 1433) cross-validation splits)"
   ]
  },
  {
   "cell_type": "code",
   "execution_count": 2,
   "metadata": {},
   "outputs": [
    {
     "name": "stdout",
     "output_type": "stream",
     "text": [
      "(5732, 23, 23) (5732,)\n"
     ]
    }
   ],
   "source": [
    "del data\n",
    "data = scipy.io.loadmat('qm7.mat')\n",
    "split = 2 #mini-batch size used for training.\n",
    "\n",
    "P = data['P'][list(range(0,split))+list(range(split+1,5))].flatten()\n",
    "X = data['X'][P]\n",
    "T = data['T'][0,P]\n",
    "print(X.shape, T.shape)\n",
    "\n",
    "P_test = data['P'][2].flatten()\n",
    "X_test = data['X'][P_test]\n",
    "T_test = data['T'][0,P_test]"
   ]
  },
  {
   "cell_type": "code",
   "execution_count": 14,
   "metadata": {},
   "outputs": [],
   "source": [
    "# Training Parameters\n",
    "learning_rate = 0.001\n",
    "num_steps = 10000\n",
    "batch_size = 10\n",
    "img_size = 23\n",
    "num_channels = 1\n",
    "num_classes = 1\n",
    "\n",
    "# Now, we need to initialize all our variables for the Tensorflow network.\n",
    "session = tf.Session()\n",
    "x = tf.placeholder(tf.float32, shape = [None, img_size, img_size, num_channels], name = 'x')\n",
    "y = tf.placeholder(tf.float32, shape = [None, num_classes], name = 'y')"
   ]
  },
  {
   "cell_type": "code",
   "execution_count": 15,
   "metadata": {},
   "outputs": [],
   "source": [
    "def next_batch(num, data, labels):\n",
    "    # Return a total of `num` random samples and labels. \n",
    "    idx = np.arange(0 , len(data))\n",
    "    np.random.shuffle(idx)\n",
    "    idx = idx[:num]\n",
    "    data_shuffle = [data[i] for i in idx]\n",
    "    labels_shuffle = [labels[i] for i in idx]\n",
    "    return np.asarray(data_shuffle), np.asarray(labels_shuffle)\n",
    "\n",
    "# We can define functions for all the different layers of the neural network\n",
    "# This way we can be more general in the neural network architecture.\n",
    "\n",
    "def create_weights(shape):\n",
    "    return tf.Variable(tf.truncated_normal(shape, stddev = 0.05))\n",
    "\n",
    "def create_biases(size):\n",
    "    return tf.Variable(tf.constant(0.05, shape = [size]))\n",
    "\n",
    "def create_convolutional_layer(input, num_input_channels, conv_filter_size, num_filters):  \n",
    "    \n",
    "    ## We shall define the weights that will be trained using create_weights function.\n",
    "    weights = create_weights(shape = [conv_filter_size, conv_filter_size, num_input_channels, num_filters])\n",
    "    ## We create biases using the create_biases function. These are also trained.\n",
    "    biases = create_biases(num_filters)\n",
    "\n",
    "    ## Creating the convolutional layer -- stride size determines the movement of the filter\n",
    "    layer = tf.nn.conv2d(input = input, filter = weights, strides = [1, 1, 1, 1], padding='SAME')\n",
    "\n",
    "    layer += biases\n",
    "\n",
    "    ## We shall be using max-pooling on a region after the filtered convolution step.\n",
    "    layer = tf.nn.max_pool(value = layer, ksize = [1, 2, 2, 1], strides = [1, 1, 1, 1], padding='SAME')\n",
    "    ## Output of pooling is fed to ReLU.\n",
    "    layer = tf.nn.relu(layer)\n",
    "\n",
    "    return layer\n",
    "\n",
    "def create_flatten_layer(layer):\n",
    "    layer_shape = layer.get_shape()\n",
    "\n",
    "    ## Number of features will be img_height * img_width * num_channels..\n",
    "    num_features = layer_shape[1:4].num_elements()\n",
    "\n",
    "    ## Now, we Flatten the layer so we shall have to reshape to num_features\n",
    "    layer = tf.reshape(layer, [-1, num_features])\n",
    "\n",
    "    return layer\n",
    "\n",
    "\n",
    "def create_fc_layer(input, num_inputs, num_outputs, use_relu = True):\n",
    "    \n",
    "    #Let's define trainable weights and biases.\n",
    "    weights = create_weights(shape=[num_inputs, num_outputs])\n",
    "    biases = create_biases(num_outputs)\n",
    "\n",
    "    # Fully connected layer takes input x and produces wx+b. Since, these are matrices, we use matmul function in Tensorflow\n",
    "    layer = tf.matmul(input, weights) + biases\n",
    "    if use_relu:\n",
    "        layer = tf.nn.relu(layer)\n",
    "\n",
    "    return layer"
   ]
  },
  {
   "cell_type": "code",
   "execution_count": 16,
   "metadata": {},
   "outputs": [],
   "source": [
    "def conv_model(x, filter_size_conv1, filters1, filter_size_conv2, \n",
    "                filters2, num_channels, num_classes, fc_layer_size1, fc_layer_size2):\n",
    "    # These will be the parameters used for the layers of the neural network.\n",
    "    filter_size_conv1 = filter_size_conv1 \n",
    "    num_filters_conv1 = filters1\n",
    "    filter_size_conv2 = filter_size_conv2\n",
    "    num_filters_conv2 = filters2\n",
    "    num_classes = num_classes #one output of atomization energy\n",
    "    fc_layer_size1 = fc_layer_size1 #Size of the fc layer\n",
    "    fc_layer_size2 = fc_layer_size2 #Size of the fc layer\n",
    "\n",
    "\n",
    "    # From here, we can build the neural network architecture by calling functions for each \n",
    "    layer_conv1 = create_convolutional_layer(input = x, num_input_channels = num_channels, conv_filter_size = filter_size_conv1, num_filters = num_filters_conv1)\n",
    "    #print(layer_conv1.get_shape())\n",
    "    layer_conv2 = create_convolutional_layer(input = layer_conv1, num_input_channels = num_filters_conv1, conv_filter_size = filter_size_conv2, num_filters = num_filters_conv2) \n",
    "    #print(layer_conv2.get_shape())\n",
    "    layer_flat = create_flatten_layer(layer_conv2)\n",
    "    print(layer_flat.get_shape())\n",
    "    layer_fc1 = create_fc_layer(input = layer_flat, num_inputs = layer_flat.get_shape()[1:4].num_elements(), num_outputs = fc_layer_size1, use_relu = True)\n",
    "    #print(layer_fc1.get_shape())\n",
    "    layer_fc2 = create_fc_layer(input = layer_fc1, num_inputs = layer_fc1.get_shape()[1:4].num_elements(), num_outputs = fc_layer_size2, use_relu = True)\n",
    "    #print(layer_fc2.get_shape())\n",
    "    output = create_fc_layer(input = layer_fc2, num_inputs = layer_fc2.get_shape()[1:4].num_elements(), num_outputs = num_classes, use_relu = False)\n",
    "    #print(layer_output.get_shape())\n",
    "    return output\n"
   ]
  },
  {
   "cell_type": "code",
   "execution_count": 17,
   "metadata": {},
   "outputs": [
    {
     "name": "stdout",
     "output_type": "stream",
     "text": [
      "(?, 8464)\n"
     ]
    }
   ],
   "source": [
    "pred = conv_model(x, 12, 8, 6, 16, 1, 1, 4232, 65)\n",
    "loss = tf.reduce_mean(tf.squared_difference(pred, y))\n",
    "#loss = tf.reduce_mean(tf.abs(pred - y))\n",
    "optimizer = tf.train.AdamOptimizer(learning_rate = learning_rate).minimize(loss)\n",
    "accuracy = tf.reduce_mean(tf.abs(pred - y))\n",
    "\n",
    "# Initialize global variables for Tensorflow.\n",
    "session.run(tf.global_variables_initializer()) \n",
    "init = tf.global_variables_initializer()\n",
    "# Implemented function to show the epochs and accuracy of the network training. \n",
    "def show_progress(epoch, feed_dict_train):\n",
    "    acc = session.run(accuracy, feed_dict = feed_dict_train)\n",
    "    prediction = session.run(pred, feed_dict = feed_dict_train)\n",
    "    print(\"Epoch:\", epoch + 1, \"      Mean Absolute Error:\" , acc)\n",
    "\n",
    "# Implemented function to execute the modeling training. \n",
    "total_iterations = 0\n",
    "def train(num_iteration):\n",
    "    global total_iterations\n",
    "    \n",
    "    for i in range(total_iterations, total_iterations + num_iteration):\n",
    "        x_batch, y_batch = next_batch(batch_size, X, T)\n",
    "        x_batch = np.reshape(x_batch, (-1, 23, 23, 1))\n",
    "        y_batch = np.reshape(y_batch, (batch_size, 1))\n",
    "        feed_dict_train = {x: x_batch, y: y_batch,}\n",
    "        session.run(optimizer, feed_dict = feed_dict_train)\n",
    "        if i % int(len(X)/batch_size) == 0: \n",
    "            epoch = int(i/int(len(X)/batch_size))    \n",
    "            show_progress(epoch, feed_dict_train)\n",
    "    \n",
    "    total_iterations += num_iteration"
   ]
  },
  {
   "cell_type": "code",
   "execution_count": 18,
   "metadata": {},
   "outputs": [
    {
     "name": "stdout",
     "output_type": "stream",
     "text": [
      "Epoch: 1       Mean Absolute Error: 1518.06\n",
      "Epoch: 2       Mean Absolute Error: 52.8196\n",
      "Epoch: 3       Mean Absolute Error: 28.0004\n",
      "Epoch: 4       Mean Absolute Error: 13.7982\n",
      "Epoch: 5       Mean Absolute Error: 38.3967\n",
      "Epoch: 6       Mean Absolute Error: 15.6882\n",
      "Epoch: 7       Mean Absolute Error: 11.1498\n",
      "Epoch: 8       Mean Absolute Error: 24.366\n",
      "Epoch: 9       Mean Absolute Error: 19.9231\n",
      "Epoch: 10       Mean Absolute Error: 24.3785\n",
      "Epoch: 11       Mean Absolute Error: 19.1828\n",
      "Epoch: 12       Mean Absolute Error: 26.6926\n",
      "Epoch: 13       Mean Absolute Error: 15.8588\n",
      "Epoch: 14       Mean Absolute Error: 11.0555\n",
      "Epoch: 15       Mean Absolute Error: 12.157\n",
      "Epoch: 16       Mean Absolute Error: 18.9055\n",
      "Epoch: 17       Mean Absolute Error: 12.6611\n",
      "Epoch: 18       Mean Absolute Error: 14.7963\n",
      "Test Accuracy:  17.9049\n"
     ]
    }
   ],
   "source": [
    "# Train the model!\n",
    "train(num_iteration = num_steps)\n",
    "X_test = np.reshape(X_test, (-1, 23, 23, 1))\n",
    "T_test = np.reshape(T_test, (1433, 1))\n",
    "testing = session.run(accuracy, feed_dict = {x: X_test, y: T_test})\n",
    "print(\"Test Accuracy: \",  testing)\n"
   ]
  }
 ],
 "metadata": {
  "kernelspec": {
   "display_name": "Python 3",
   "language": "python",
   "name": "python3"
  },
  "language_info": {
   "codemirror_mode": {
    "name": "ipython",
    "version": 3
   },
   "file_extension": ".py",
   "mimetype": "text/x-python",
   "name": "python",
   "nbconvert_exporter": "python",
   "pygments_lexer": "ipython3",
   "version": "3.5.2"
  }
 },
 "nbformat": 4,
 "nbformat_minor": 2
}
